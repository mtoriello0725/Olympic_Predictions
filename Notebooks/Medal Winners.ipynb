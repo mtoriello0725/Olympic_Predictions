{
 "cells": [
  {
   "cell_type": "code",
   "execution_count": 5,
   "metadata": {},
   "outputs": [],
   "source": [
    "import os\n",
    "import numpy as np\n",
    "import pandas as pd\n",
    "import seaborn as sns\n",
    "import matplotlib\n",
    "import matplotlib.pyplot as plt"
   ]
  },
  {
   "cell_type": "code",
   "execution_count": 6,
   "metadata": {},
   "outputs": [],
   "source": [
    "path_to_csv = os.path.join(\"..\", \"data\", \"country_medals.csv\")\n",
    "\n",
    "medal_winners = pd.read_csv(path_to_csv)"
   ]
  },
  {
   "cell_type": "code",
   "execution_count": 26,
   "metadata": {},
   "outputs": [
    {
     "data": {
      "text/html": [
       "<div>\n",
       "<style scoped>\n",
       "    .dataframe tbody tr th:only-of-type {\n",
       "        vertical-align: middle;\n",
       "    }\n",
       "\n",
       "    .dataframe tbody tr th {\n",
       "        vertical-align: top;\n",
       "    }\n",
       "\n",
       "    .dataframe thead th {\n",
       "        text-align: right;\n",
       "    }\n",
       "</style>\n",
       "<table border=\"1\" class=\"dataframe\">\n",
       "  <thead>\n",
       "    <tr style=\"text-align: right;\">\n",
       "      <th></th>\n",
       "      <th>NOC</th>\n",
       "      <th>Games</th>\n",
       "      <th>Year</th>\n",
       "      <th>Season</th>\n",
       "      <th>City</th>\n",
       "      <th>Sport</th>\n",
       "      <th>Event</th>\n",
       "      <th>Medal</th>\n",
       "      <th>NOC_Year_Event_Medal</th>\n",
       "      <th>region</th>\n",
       "    </tr>\n",
       "  </thead>\n",
       "  <tbody>\n",
       "    <tr>\n",
       "      <th>0</th>\n",
       "      <td>DEN</td>\n",
       "      <td>1900 Summer</td>\n",
       "      <td>1900</td>\n",
       "      <td>Summer</td>\n",
       "      <td>Paris</td>\n",
       "      <td>Tug-Of-War</td>\n",
       "      <td>Tug-Of-War Men's Tug-Of-War</td>\n",
       "      <td>Gold</td>\n",
       "      <td>DEN1900Tug-Of-War Men's Tug-Of-WarGold</td>\n",
       "      <td>Denmark</td>\n",
       "    </tr>\n",
       "    <tr>\n",
       "      <th>1</th>\n",
       "      <td>FIN</td>\n",
       "      <td>1920 Summer</td>\n",
       "      <td>1920</td>\n",
       "      <td>Summer</td>\n",
       "      <td>Antwerpen</td>\n",
       "      <td>Swimming</td>\n",
       "      <td>Swimming Men's 200 metres Breaststroke</td>\n",
       "      <td>Bronze</td>\n",
       "      <td>FIN1920Swimming Men's 200 metres BreaststrokeB...</td>\n",
       "      <td>Finland</td>\n",
       "    </tr>\n",
       "    <tr>\n",
       "      <th>2</th>\n",
       "      <td>FIN</td>\n",
       "      <td>1920 Summer</td>\n",
       "      <td>1920</td>\n",
       "      <td>Summer</td>\n",
       "      <td>Antwerpen</td>\n",
       "      <td>Swimming</td>\n",
       "      <td>Swimming Men's 400 metres Breaststroke</td>\n",
       "      <td>Bronze</td>\n",
       "      <td>FIN1920Swimming Men's 400 metres BreaststrokeB...</td>\n",
       "      <td>Finland</td>\n",
       "    </tr>\n",
       "    <tr>\n",
       "      <th>3</th>\n",
       "      <td>FIN</td>\n",
       "      <td>2014 Winter</td>\n",
       "      <td>2014</td>\n",
       "      <td>Winter</td>\n",
       "      <td>Sochi</td>\n",
       "      <td>Ice Hockey</td>\n",
       "      <td>Ice Hockey Men's Ice Hockey</td>\n",
       "      <td>Bronze</td>\n",
       "      <td>FIN2014Ice Hockey Men's Ice HockeyBronze</td>\n",
       "      <td>Finland</td>\n",
       "    </tr>\n",
       "    <tr>\n",
       "      <th>4</th>\n",
       "      <td>FIN</td>\n",
       "      <td>1948 Summer</td>\n",
       "      <td>1948</td>\n",
       "      <td>Summer</td>\n",
       "      <td>London</td>\n",
       "      <td>Gymnastics</td>\n",
       "      <td>Gymnastics Men's Individual All-Around</td>\n",
       "      <td>Bronze</td>\n",
       "      <td>FIN1948Gymnastics Men's Individual All-AroundB...</td>\n",
       "      <td>Finland</td>\n",
       "    </tr>\n",
       "  </tbody>\n",
       "</table>\n",
       "</div>"
      ],
      "text/plain": [
       "   NOC        Games  Year  Season       City       Sport  \\\n",
       "0  DEN  1900 Summer  1900  Summer      Paris  Tug-Of-War   \n",
       "1  FIN  1920 Summer  1920  Summer  Antwerpen    Swimming   \n",
       "2  FIN  1920 Summer  1920  Summer  Antwerpen    Swimming   \n",
       "3  FIN  2014 Winter  2014  Winter      Sochi  Ice Hockey   \n",
       "4  FIN  1948 Summer  1948  Summer     London  Gymnastics   \n",
       "\n",
       "                                    Event   Medal  \\\n",
       "0             Tug-Of-War Men's Tug-Of-War    Gold   \n",
       "1  Swimming Men's 200 metres Breaststroke  Bronze   \n",
       "2  Swimming Men's 400 metres Breaststroke  Bronze   \n",
       "3             Ice Hockey Men's Ice Hockey  Bronze   \n",
       "4  Gymnastics Men's Individual All-Around  Bronze   \n",
       "\n",
       "                                NOC_Year_Event_Medal   region  \n",
       "0             DEN1900Tug-Of-War Men's Tug-Of-WarGold  Denmark  \n",
       "1  FIN1920Swimming Men's 200 metres BreaststrokeB...  Finland  \n",
       "2  FIN1920Swimming Men's 400 metres BreaststrokeB...  Finland  \n",
       "3           FIN2014Ice Hockey Men's Ice HockeyBronze  Finland  \n",
       "4  FIN1948Gymnastics Men's Individual All-AroundB...  Finland  "
      ]
     },
     "execution_count": 26,
     "metadata": {},
     "output_type": "execute_result"
    }
   ],
   "source": [
    "medal_winners.head()"
   ]
  },
  {
   "cell_type": "code",
   "execution_count": 8,
   "metadata": {},
   "outputs": [
    {
     "data": {
      "text/plain": [
       "region       Season  Year\n",
       "Afghanistan  Summer  2008    1\n",
       "                     2012    1\n",
       "Algeria      Summer  1984    2\n",
       "                     1992    2\n",
       "                     1996    3\n",
       "                     2000    5\n",
       "                     2008    2\n",
       "                     2012    1\n",
       "                     2016    2\n",
       "Argentina    Summer  1924    6\n",
       "                     1928    7\n",
       "                     1932    4\n",
       "                     1936    7\n",
       "                     1948    7\n",
       "                     1952    5\n",
       "                     1956    2\n",
       "                     1960    2\n",
       "                     1964    1\n",
       "                     1968    2\n",
       "                     1972    1\n",
       "Name: Medal, dtype: int64"
      ]
     },
     "execution_count": 8,
     "metadata": {},
     "output_type": "execute_result"
    }
   ],
   "source": [
    "country_year = medal_winners.groupby([\"region\", \"Season\", \"Year\"])\n",
    "country_year_records = country_year[\"Medal\"].count()\n",
    "country_year_records.head(20)"
   ]
  },
  {
   "cell_type": "code",
   "execution_count": 9,
   "metadata": {},
   "outputs": [
    {
     "data": {
      "text/plain": [
       "pandas.core.series.Series"
      ]
     },
     "execution_count": 9,
     "metadata": {},
     "output_type": "execute_result"
    }
   ],
   "source": [
    "type(country_year_records)"
   ]
  },
  {
   "cell_type": "code",
   "execution_count": 10,
   "metadata": {},
   "outputs": [
    {
     "data": {
      "text/plain": [
       "Year\n",
       "1896     19\n",
       "1900     54\n",
       "1904    230\n",
       "1906     23\n",
       "1908     46\n",
       "1912     63\n",
       "1920     95\n",
       "1924     99\n",
       "1928     56\n",
       "1932    110\n",
       "1936     57\n",
       "1948     84\n",
       "1952     76\n",
       "1956     74\n",
       "1960     71\n",
       "1964     90\n",
       "1968    107\n",
       "1972     94\n",
       "1976     94\n",
       "1984    173\n",
       "1988     94\n",
       "1992    108\n",
       "1996    101\n",
       "2000     91\n",
       "2004    101\n",
       "2008    110\n",
       "2012    103\n",
       "2016    121\n",
       "Name: Medal, dtype: int64"
      ]
     },
     "execution_count": 10,
     "metadata": {},
     "output_type": "execute_result"
    }
   ],
   "source": [
    "country_year_records[\"USA\"][\"Summer\"]"
   ]
  },
  {
   "cell_type": "code",
   "execution_count": 11,
   "metadata": {},
   "outputs": [
    {
     "name": "stdout",
     "output_type": "stream",
     "text": [
      "Enter Country to analyze: \n",
      "Enter Another country to analyze: \n",
      "Enter a Season (Summer/Winter): \n"
     ]
    },
    {
     "ename": "KeyError",
     "evalue": "''",
     "output_type": "error",
     "traceback": [
      "\u001b[1;31m---------------------------------------------------------------------------\u001b[0m",
      "\u001b[1;31mTypeError\u001b[0m                                 Traceback (most recent call last)",
      "\u001b[1;32m~\\Anaconda3\\envs\\PythonData\\lib\\site-packages\\pandas\\core\\indexes\\multi.py\u001b[0m in \u001b[0;36mget_value\u001b[1;34m(self, series, key)\u001b[0m\n\u001b[0;32m    973\u001b[0m             \u001b[1;32mtry\u001b[0m\u001b[1;33m:\u001b[0m\u001b[1;33m\u001b[0m\u001b[0m\n\u001b[1;32m--> 974\u001b[1;33m                 \u001b[1;32mreturn\u001b[0m \u001b[0mlibindex\u001b[0m\u001b[1;33m.\u001b[0m\u001b[0mget_value_at\u001b[0m\u001b[1;33m(\u001b[0m\u001b[0ms\u001b[0m\u001b[1;33m,\u001b[0m \u001b[0mk\u001b[0m\u001b[1;33m)\u001b[0m\u001b[1;33m\u001b[0m\u001b[0m\n\u001b[0m\u001b[0;32m    975\u001b[0m             \u001b[1;32mexcept\u001b[0m \u001b[0mIndexError\u001b[0m\u001b[1;33m:\u001b[0m\u001b[1;33m\u001b[0m\u001b[0m\n",
      "\u001b[1;32mpandas\\_libs\\index.pyx\u001b[0m in \u001b[0;36mpandas._libs.index.get_value_at\u001b[1;34m()\u001b[0m\n",
      "\u001b[1;32mpandas/_libs/src\\util.pxd\u001b[0m in \u001b[0;36mutil.get_value_at\u001b[1;34m()\u001b[0m\n",
      "\u001b[1;31mTypeError\u001b[0m: 'str' object cannot be interpreted as an integer",
      "\nDuring handling of the above exception, another exception occurred:\n",
      "\u001b[1;31mKeyError\u001b[0m                                  Traceback (most recent call last)",
      "\u001b[1;32m<ipython-input-11-dd15922269a7>\u001b[0m in \u001b[0;36m<module>\u001b[1;34m\u001b[0m\n\u001b[0;32m      9\u001b[0m \u001b[1;33m\u001b[0m\u001b[0m\n\u001b[0;32m     10\u001b[0m sns.barplot(\n\u001b[1;32m---> 11\u001b[1;33m     \u001b[0mx\u001b[0m\u001b[1;33m=\u001b[0m\u001b[0mcountry_year_records\u001b[0m\u001b[1;33m[\u001b[0m\u001b[0mcountry_input\u001b[0m\u001b[1;33m]\u001b[0m\u001b[1;33m[\u001b[0m\u001b[0mseason_input\u001b[0m\u001b[1;33m]\u001b[0m\u001b[1;33m.\u001b[0m\u001b[0mindex\u001b[0m\u001b[1;33m,\u001b[0m\u001b[1;33m\u001b[0m\u001b[0m\n\u001b[0m\u001b[0;32m     12\u001b[0m     \u001b[0my\u001b[0m\u001b[1;33m=\u001b[0m\u001b[0mcountry_year_records\u001b[0m\u001b[1;33m[\u001b[0m\u001b[0mcountry_input\u001b[0m\u001b[1;33m]\u001b[0m\u001b[1;33m[\u001b[0m\u001b[0mseason_input\u001b[0m\u001b[1;33m]\u001b[0m\u001b[1;33m.\u001b[0m\u001b[0mvalues\u001b[0m\u001b[1;33m,\u001b[0m\u001b[1;33m\u001b[0m\u001b[0m\n\u001b[0;32m     13\u001b[0m     \u001b[0max\u001b[0m\u001b[1;33m=\u001b[0m\u001b[0max1\u001b[0m\u001b[1;33m\u001b[0m\u001b[0m\n",
      "\u001b[1;32m~\\Anaconda3\\envs\\PythonData\\lib\\site-packages\\pandas\\core\\series.py\u001b[0m in \u001b[0;36m__getitem__\u001b[1;34m(self, key)\u001b[0m\n\u001b[0;32m    765\u001b[0m         \u001b[0mkey\u001b[0m \u001b[1;33m=\u001b[0m \u001b[0mcom\u001b[0m\u001b[1;33m.\u001b[0m\u001b[0m_apply_if_callable\u001b[0m\u001b[1;33m(\u001b[0m\u001b[0mkey\u001b[0m\u001b[1;33m,\u001b[0m \u001b[0mself\u001b[0m\u001b[1;33m)\u001b[0m\u001b[1;33m\u001b[0m\u001b[0m\n\u001b[0;32m    766\u001b[0m         \u001b[1;32mtry\u001b[0m\u001b[1;33m:\u001b[0m\u001b[1;33m\u001b[0m\u001b[0m\n\u001b[1;32m--> 767\u001b[1;33m             \u001b[0mresult\u001b[0m \u001b[1;33m=\u001b[0m \u001b[0mself\u001b[0m\u001b[1;33m.\u001b[0m\u001b[0mindex\u001b[0m\u001b[1;33m.\u001b[0m\u001b[0mget_value\u001b[0m\u001b[1;33m(\u001b[0m\u001b[0mself\u001b[0m\u001b[1;33m,\u001b[0m \u001b[0mkey\u001b[0m\u001b[1;33m)\u001b[0m\u001b[1;33m\u001b[0m\u001b[0m\n\u001b[0m\u001b[0;32m    768\u001b[0m \u001b[1;33m\u001b[0m\u001b[0m\n\u001b[0;32m    769\u001b[0m             \u001b[1;32mif\u001b[0m \u001b[1;32mnot\u001b[0m \u001b[0mis_scalar\u001b[0m\u001b[1;33m(\u001b[0m\u001b[0mresult\u001b[0m\u001b[1;33m)\u001b[0m\u001b[1;33m:\u001b[0m\u001b[1;33m\u001b[0m\u001b[0m\n",
      "\u001b[1;32m~\\Anaconda3\\envs\\PythonData\\lib\\site-packages\\pandas\\core\\indexes\\multi.py\u001b[0m in \u001b[0;36mget_value\u001b[1;34m(self, series, key)\u001b[0m\n\u001b[0;32m    980\u001b[0m                     \u001b[1;32mraise\u001b[0m \u001b[0mInvalidIndexError\u001b[0m\u001b[1;33m(\u001b[0m\u001b[0mkey\u001b[0m\u001b[1;33m)\u001b[0m\u001b[1;33m\u001b[0m\u001b[0m\n\u001b[0;32m    981\u001b[0m                 \u001b[1;32melse\u001b[0m\u001b[1;33m:\u001b[0m\u001b[1;33m\u001b[0m\u001b[0m\n\u001b[1;32m--> 982\u001b[1;33m                     \u001b[1;32mraise\u001b[0m \u001b[0me1\u001b[0m\u001b[1;33m\u001b[0m\u001b[0m\n\u001b[0m\u001b[0;32m    983\u001b[0m             \u001b[1;32mexcept\u001b[0m \u001b[0mException\u001b[0m\u001b[1;33m:\u001b[0m  \u001b[1;31m# pragma: no cover\u001b[0m\u001b[1;33m\u001b[0m\u001b[0m\n\u001b[0;32m    984\u001b[0m                 \u001b[1;32mraise\u001b[0m \u001b[0me1\u001b[0m\u001b[1;33m\u001b[0m\u001b[0m\n",
      "\u001b[1;32m~\\Anaconda3\\envs\\PythonData\\lib\\site-packages\\pandas\\core\\indexes\\multi.py\u001b[0m in \u001b[0;36mget_value\u001b[1;34m(self, series, key)\u001b[0m\n\u001b[0;32m    964\u001b[0m \u001b[1;33m\u001b[0m\u001b[0m\n\u001b[0;32m    965\u001b[0m         \u001b[1;32mtry\u001b[0m\u001b[1;33m:\u001b[0m\u001b[1;33m\u001b[0m\u001b[0m\n\u001b[1;32m--> 966\u001b[1;33m             \u001b[1;32mreturn\u001b[0m \u001b[0mself\u001b[0m\u001b[1;33m.\u001b[0m\u001b[0m_engine\u001b[0m\u001b[1;33m.\u001b[0m\u001b[0mget_value\u001b[0m\u001b[1;33m(\u001b[0m\u001b[0ms\u001b[0m\u001b[1;33m,\u001b[0m \u001b[0mk\u001b[0m\u001b[1;33m)\u001b[0m\u001b[1;33m\u001b[0m\u001b[0m\n\u001b[0m\u001b[0;32m    967\u001b[0m         \u001b[1;32mexcept\u001b[0m \u001b[0mKeyError\u001b[0m \u001b[1;32mas\u001b[0m \u001b[0me1\u001b[0m\u001b[1;33m:\u001b[0m\u001b[1;33m\u001b[0m\u001b[0m\n\u001b[0;32m    968\u001b[0m             \u001b[1;32mtry\u001b[0m\u001b[1;33m:\u001b[0m\u001b[1;33m\u001b[0m\u001b[0m\n",
      "\u001b[1;32mpandas\\_libs\\index.pyx\u001b[0m in \u001b[0;36mpandas._libs.index.IndexEngine.get_value\u001b[1;34m()\u001b[0m\n",
      "\u001b[1;32mpandas\\_libs\\index.pyx\u001b[0m in \u001b[0;36mpandas._libs.index.IndexEngine.get_value\u001b[1;34m()\u001b[0m\n",
      "\u001b[1;32mpandas\\_libs\\index.pyx\u001b[0m in \u001b[0;36mpandas._libs.index.IndexEngine.get_loc\u001b[1;34m()\u001b[0m\n",
      "\u001b[1;32mpandas\\_libs\\index.pyx\u001b[0m in \u001b[0;36mpandas._libs.index.BaseMultiIndexCodesEngine.get_loc\u001b[1;34m()\u001b[0m\n",
      "\u001b[1;31mKeyError\u001b[0m: ''"
     ]
    },
    {
     "data": {
      "image/png": "[encoded data removed]",
      "text/plain": [
       "<Figure size 1080x720 with 2 Axes>"
      ]
     },
     "metadata": {
      "needs_background": "light"
     },
     "output_type": "display_data"
    }
   ],
   "source": [
    "country_input = input(\"Enter Country to analyze: \")\n",
    "country_input2 = input(\"Enter Another country to analyze: \")\n",
    "\n",
    "season_input = input(\"Enter a Season (Summer/Winter): \")\n",
    "\n",
    "\n",
    "# Figure for bar chart\n",
    "fig, (ax1, ax2) = plt.subplots(2,1,figsize=(15,10), sharex=True)\n",
    "\n",
    "sns.barplot(\n",
    "    x=country_year_records[country_input][season_input].index,\n",
    "    y=country_year_records[country_input][season_input].values,\n",
    "    ax=ax1\n",
    ")\n",
    "\n",
    "sns.barplot(\n",
    "    x=country_year_records[country_input2][season_input2].index,\n",
    "    y=country_year_records[country_input2][season_input2].values,\n",
    "    ax=ax2\n",
    ")\n"
   ]
  },
  {
   "cell_type": "markdown",
   "metadata": {},
   "source": [
    "## Need a way to display 0 when a country did not participate:"
   ]
  },
  {
   "cell_type": "code",
   "execution_count": 12,
   "metadata": {},
   "outputs": [],
   "source": [
    "summer_winners = medal_winners.loc[medal_winners[\"Season\"] == \"Summer\"]\n",
    "summer_year_list = summer_winners[\"Year\"].unique()\n",
    "summer_year_list = np.sort(summer_year_list)"
   ]
  },
  {
   "cell_type": "code",
   "execution_count": 13,
   "metadata": {},
   "outputs": [],
   "source": [
    "winter_winners = medal_winners.loc[medal_winners[\"Season\"] == \"Winter\"]\n",
    "winter_year_list = winter_winners[\"Year\"].unique()\n",
    "winter_year_list = np.sort(winter_year_list)"
   ]
  },
  {
   "cell_type": "code",
   "execution_count": 15,
   "metadata": {},
   "outputs": [
    {
     "name": "stdout",
     "output_type": "stream",
     "text": [
      "Enter Country to analyze: USA\n",
      "Enter Another country to analyze: UK\n",
      "Enter a Season (Summer/Winter): Summer\n"
     ]
    },
    {
     "data": {
      "text/plain": [
       "<matplotlib.axes._subplots.AxesSubplot at 0x25d249230f0>"
      ]
     },
     "execution_count": 15,
     "metadata": {},
     "output_type": "execute_result"
    },
    {
     "data": {
      "image/png": "[encoded data removed]",
      "text/plain": [
       "<Figure size 1080x720 with 2 Axes>"
      ]
     },
     "metadata": {
      "needs_background": "light"
     },
     "output_type": "display_data"
    }
   ],
   "source": [
    "country_input = input(\"Enter Country to analyze: \")\n",
    "country_input2 = input(\"Enter Another country to analyze: \")\n",
    "\n",
    "season_input = input(\"Enter a Season (Summer/Winter): \")\n",
    "if season_input == \"Summer\":\n",
    "    order_input = summer_year_list\n",
    "elif season_input == \"Winter\":\n",
    "    order_input = winter_year_list\n",
    "else:\n",
    "    print(\"Try again\")\n",
    "\n",
    "\n",
    "# Figure for bar chart\n",
    "fig, (ax1, ax2) = plt.subplots(2,1,figsize=(15,10), sharex=True)\n",
    "\n",
    "sns.barplot(\n",
    "    x=country_year_records[country_input][season_input].index,\n",
    "    y=country_year_records[country_input][season_input].values,\n",
    "    order=order_input,\n",
    "    ax=ax1\n",
    ")\n",
    "\n",
    "sns.barplot(\n",
    "    x=country_year_records[country_input2][season_input].index,\n",
    "    y=country_year_records[country_input2][season_input].values,\n",
    "    order=order_input,\n",
    "    ax=ax2\n",
    ")\n"
   ]
  },
  {
   "cell_type": "markdown",
   "metadata": {},
   "source": [
    "## Create a line graph of the top 10 countries medal performances.\n",
    "\n",
    "Use this as a reference:\n",
    "- https://towardsdatascience.com/how-to-create-animated-graphs-in-python-bb619cc2dec1"
   ]
  },
  {
   "cell_type": "markdown",
   "metadata": {},
   "source": [
    "## Migrate to highcharts and jQuery:\n",
    "\n",
    "- Export top 10 countries to json objects by year"
   ]
  },
  {
   "cell_type": "code",
   "execution_count": 16,
   "metadata": {},
   "outputs": [
    {
     "data": {
      "text/plain": [
       "Season  region       Year\n",
       "Summer  Afghanistan  2008    1\n",
       "                     2012    1\n",
       "        Algeria      1984    2\n",
       "                     1992    2\n",
       "                     1996    3\n",
       "                     2000    5\n",
       "                     2008    2\n",
       "                     2012    1\n",
       "                     2016    2\n",
       "        Argentina    1924    6\n",
       "                     1928    7\n",
       "                     1932    4\n",
       "                     1936    7\n",
       "                     1948    7\n",
       "                     1952    5\n",
       "                     1956    2\n",
       "                     1960    2\n",
       "                     1964    1\n",
       "                     1968    2\n",
       "                     1972    1\n",
       "Name: Medal, dtype: int64"
      ]
     },
     "execution_count": 16,
     "metadata": {},
     "output_type": "execute_result"
    }
   ],
   "source": [
    "country_season = medal_winners.groupby([\"Season\", \"region\", \"Year\"])\n",
    "country_season_records = country_season[\"Medal\"].count()\n",
    "country_season_records.head(20)"
   ]
  },
  {
   "cell_type": "code",
   "execution_count": 27,
   "metadata": {},
   "outputs": [
    {
     "data": {
      "text/plain": [
       "['USA',\n",
       " 'Russia',\n",
       " 'Germany',\n",
       " 'UK',\n",
       " 'France',\n",
       " 'Italy',\n",
       " 'China',\n",
       " 'Australia',\n",
       " 'Sweden',\n",
       " 'Hungary',\n",
       " 'Japan',\n",
       " 'Finland',\n",
       " 'Canada',\n",
       " 'Romania',\n",
       " 'Netherlands',\n",
       " 'Poland',\n",
       " 'South Korea',\n",
       " 'Bulgaria',\n",
       " 'Cuba',\n",
       " 'Denmark']"
      ]
     },
     "execution_count": 27,
     "metadata": {},
     "output_type": "execute_result"
    }
   ],
   "source": [
    "medal_winners_summer = medal_winners.loc[medal_winners[\"Season\"] == \"Summer\"]\n",
    "summer_country_list = medal_winners_summer.groupby(\"region\")[\"Medal\"].count().sort_values(ascending=False).head(20).index.tolist()"
   ]
  },
  {
   "cell_type": "code",
   "execution_count": 28,
   "metadata": {},
   "outputs": [
    {
     "data": {
      "text/plain": [
       "['Germany',\n",
       " 'Russia',\n",
       " 'Norway',\n",
       " 'USA',\n",
       " 'Austria',\n",
       " 'Canada',\n",
       " 'Finland',\n",
       " 'Sweden',\n",
       " 'Switzerland',\n",
       " 'Italy',\n",
       " 'Netherlands',\n",
       " 'France',\n",
       " 'China',\n",
       " 'South Korea',\n",
       " 'Czech Republic',\n",
       " 'Japan',\n",
       " 'UK',\n",
       " 'Poland',\n",
       " 'Belarus',\n",
       " 'Slovenia']"
      ]
     },
     "execution_count": 28,
     "metadata": {},
     "output_type": "execute_result"
    }
   ],
   "source": [
    "medal_winners_winter = medal_winners.loc[medal_winners[\"Season\"] == \"Winter\"]\n",
    "winter_country_list = medal_winners_winter.groupby(\"region\")[\"Medal\"].count().sort_values(ascending=False).head(20).index.tolist()\n",
    "winter_country_list"
   ]
  },
  {
   "cell_type": "code",
   "execution_count": 31,
   "metadata": {},
   "outputs": [
    {
     "ename": "AttributeError",
     "evalue": "module 'pandas' has no attribute 'to_json'",
     "output_type": "error",
     "traceback": [
      "\u001b[1;31m---------------------------------------------------------------------------\u001b[0m",
      "\u001b[1;31mAttributeError\u001b[0m                            Traceback (most recent call last)",
      "\u001b[1;32m<ipython-input-31-8f5782344993>\u001b[0m in \u001b[0;36m<module>\u001b[1;34m\u001b[0m\n\u001b[1;32m----> 1\u001b[1;33m \u001b[0mpd\u001b[0m\u001b[1;33m.\u001b[0m\u001b[0mto_json\u001b[0m\u001b[1;33m(\u001b[0m\u001b[1;33m)\u001b[0m\u001b[1;33m\u001b[0m\u001b[0m\n\u001b[0m",
      "\u001b[1;31mAttributeError\u001b[0m: module 'pandas' has no attribute 'to_json'"
     ]
    }
   ],
   "source": []
  },
  {
   "cell_type": "code",
   "execution_count": null,
   "metadata": {},
   "outputs": [],
   "source": []
  }
 ],
 "metadata": {
  "kernelspec": {
   "display_name": "Python 3",
   "language": "python",
   "name": "python3"
  },
  "language_info": {
   "codemirror_mode": {
    "name": "ipython",
    "version": 3
   },
   "file_extension": ".py",
   "mimetype": "text/x-python",
   "name": "python",
   "nbconvert_exporter": "python",
   "pygments_lexer": "ipython3",
   "version": "3.6.6"
  }
 },
 "nbformat": 4,
 "nbformat_minor": 2
}
